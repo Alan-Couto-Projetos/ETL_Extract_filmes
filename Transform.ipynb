{
 "cells": [
  {
   "cell_type": "code",
   "execution_count": 1,
   "metadata": {},
   "outputs": [
    {
     "name": "stdout",
     "output_type": "stream",
     "text": [
      "         id original_language           original_title  popularity  \\\n",
      "0    939243                en     Sonic the Hedgehog 3    3435.809   \n",
      "1    539972                en        Kraven the Hunter    2056.111   \n",
      "2   1241982                en                  Moana 2    1831.321   \n",
      "3    993710                en           Back in Action    1534.220   \n",
      "4   1249289                en                   Alarum    1392.625   \n",
      "5   1410082                en   Sniper: The Last Stand    1281.965   \n",
      "6        85                en  Raiders of the Lost Ark    1268.732   \n",
      "7   1097549                en                 Babygirl    1179.554   \n",
      "8    179387                tl           Heavenly Touch    1118.624   \n",
      "9    426063                en                Nosferatu    1020.625   \n",
      "10   558449                en             Gladiator II     958.507   \n",
      "11  1114894                en    Star Trek: Section 31     944.670   \n",
      "12   762509                en    Mufasa: The Lion King     914.045   \n",
      "13   912649                en    Venom: The Last Dance     913.007   \n",
      "14   811941                te             దేవర: Part 1     910.775   \n",
      "15   970450                en               Werewolves     802.998   \n",
      "16   933260                en            The Substance     795.158   \n",
      "17   426889                fr              Le clitoris     771.231   \n",
      "18  1255788                fr             Le Jardinier     722.371   \n",
      "19  1035048                en                Elevation     643.392   \n",
      "\n",
      "   release_date                    title  vote_average  vote_count  \n",
      "0    2024-12-19     Sonic the Hedgehog 3         7.800        1514  \n",
      "1    2024-12-11        Kraven the Hunter         6.612        1038  \n",
      "2    2024-11-21                  Moana 2         7.200        1280  \n",
      "3    2025-01-15           Back in Action         6.632         778  \n",
      "4    2025-01-16                   Alarum         6.000         119  \n",
      "5    2025-01-21   Sniper: The Last Stand         6.500          61  \n",
      "6    1981-06-12  Raiders of the Lost Ark         7.926       12594  \n",
      "7    2024-12-25                 Babygirl         5.793         340  \n",
      "8    2009-05-12           Heavenly Touch         6.000          28  \n",
      "9    2024-12-25                Nosferatu         6.700        1871  \n",
      "10   2024-11-05             Gladiator II         6.757        2664  \n",
      "11   2025-01-15    Star Trek: Section 31         4.592         119  \n",
      "12   2024-12-18    Mufasa: The Lion King         7.431         950  \n",
      "13   2024-10-22    Venom: The Last Dance         6.800        2668  \n",
      "14   2024-09-26           Devara: Part 1         7.022          90  \n",
      "15   2024-12-04               Werewolves         6.191         267  \n",
      "16   2024-09-07            The Substance         7.100        3646  \n",
      "17   2016-06-18              Le clitoris         6.614          22  \n",
      "18   2025-01-30             The Gardener         6.198          43  \n",
      "19   2024-11-07                Elevation         6.300         456  \n"
     ]
    }
   ],
   "source": [
    "import pandas as pd\n",
    "import json\n",
    "import logging\n",
    "from Extract import Extract\n",
    "\n",
    "def Transform(extracao=Extract()):\n",
    "    try:\n",
    "        data = extracao\n",
    "        logging.info(\"Extração realizada com sucesso.\")\n",
    "    except Exception as e:\n",
    "        logging.error(f\"Erro na extração: {e}\")\n",
    "\n",
    "    data_dict = json.loads(data)\n",
    "\n",
    "    dataframe = pd.DataFrame(data_dict['results'])\n",
    "\n",
    "    dataframe_limpo = dataframe.drop(axis=1, columns=['adult', 'backdrop_path', 'genre_ids', 'video', 'overview', 'poster_path'])\n",
    "\n",
    "    return dataframe_limpo\n",
    "\n",
    "print(Transform())"
   ]
  }
 ],
 "metadata": {
  "kernelspec": {
   "display_name": "Python 3",
   "language": "python",
   "name": "python3"
  },
  "language_info": {
   "codemirror_mode": {
    "name": "ipython",
    "version": 3
   },
   "file_extension": ".py",
   "mimetype": "text/x-python",
   "name": "python",
   "nbconvert_exporter": "python",
   "pygments_lexer": "ipython3",
   "version": "3.11.4"
  }
 },
 "nbformat": 4,
 "nbformat_minor": 2
}
