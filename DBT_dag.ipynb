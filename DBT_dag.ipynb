{
 "cells": [
  {
   "cell_type": "code",
   "execution_count": 12,
   "metadata": {},
   "outputs": [
    {
     "data": {
      "text/plain": [
       "<Task(BashOperator): dbt_test>"
      ]
     },
     "execution_count": 12,
     "metadata": {},
     "output_type": "execute_result"
    }
   ],
   "source": [
    "from airflow import DAG\n",
    "from airflow.operators.bash import BashOperator\n",
    "from datetime import datetime\n",
    "\n",
    "default_args = {\n",
    "    'owner' : 'postgres',\n",
    "    'start_date' : datetime.now(),\n",
    "    'retries' : 1\n",
    "}\n",
    "\n",
    "with DAG(\n",
    "    'dbt_pipeline',\n",
    "    default_args=default_args,\n",
    "    description=\"Execução do dbt run e dbt teste\",\n",
    "     schedule='@hour',\n",
    "     catchup=False) as dag:\n",
    "\n",
    "        dbt_run = BashOperator(task_id=\"dbt_run\",\n",
    "                       bash_command='cd dbt_projeto_ETL && dbt run',\n",
    "                       dag=dag)\n",
    "\n",
    "\n",
    "        dbt_test = BashOperator(task_id=\"dbt_test\",\n",
    "                       bash_command='cd dbt_projeto_ETL && dbt test',\n",
    "                       dag=dag)\n",
    "        \n",
    "dbt_run >> dbt_test"
   ]
  }
 ],
 "metadata": {
  "kernelspec": {
   "display_name": "Python 3",
   "language": "python",
   "name": "python3"
  },
  "language_info": {
   "codemirror_mode": {
    "name": "ipython",
    "version": 3
   },
   "file_extension": ".py",
   "mimetype": "text/x-python",
   "name": "python",
   "nbconvert_exporter": "python",
   "pygments_lexer": "ipython3",
   "version": "3.11.4"
  }
 },
 "nbformat": 4,
 "nbformat_minor": 2
}
