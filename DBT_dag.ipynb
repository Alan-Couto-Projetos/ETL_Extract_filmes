{
 "cells": [
  {
   "cell_type": "code",
   "execution_count": 6,
   "metadata": {},
   "outputs": [
    {
     "data": {
      "text/html": [
       "<pre style=\"white-space:pre;overflow-x:auto;line-height:normal;font-family:Menlo,'DejaVu Sans Mono',consolas,'Courier New',monospace\"><span style=\"color: #808000; text-decoration-color: #808000; font-weight: bold\">C:\\Users\\alanc\\AppData\\Local\\Temp\\ipykernel_5320\\</span><span style=\"color: #808000; text-decoration-color: #808000; font-weight: bold\">2932179204.</span><span style=\"color: #808000; text-decoration-color: #808000; font-weight: bold\">py:</span><span style=\"color: #808000; text-decoration-color: #808000; font-weight: bold\">11</span><span style=\"color: #808000; text-decoration-color: #808000; font-weight: bold\"> RemovedInAirflow3Warning</span><span style=\"color: #808000; text-decoration-color: #808000\">: Param `schedule_interval` is deprecated and will be removed in a future release. Please use `schedule` instead.</span>\n",
       "</pre>\n"
      ],
      "text/plain": [
       "\u001b[1;33mC:\\Users\\alanc\\AppData\\Local\\Temp\\ipykernel_5320\\\u001b[0m\u001b[1;33m2932179204.\u001b[0m\u001b[1;33mpy:\u001b[0m\u001b[1;33m11\u001b[0m\u001b[1;33m RemovedInAirflow3Warning\u001b[0m\u001b[33m: Param `schedule_interval` is deprecated and will be removed in a future release. Please use `schedule` instead.\u001b[0m\n"
      ]
     },
     "metadata": {},
     "output_type": "display_data"
    },
    {
     "data": {
      "text/plain": [
       "<Task(BashOperator): dbt_test>"
      ]
     },
     "execution_count": 6,
     "metadata": {},
     "output_type": "execute_result"
    }
   ],
   "source": [
    "from airflow import DAG\n",
    "from airflow.operators.bash import BashOperator\n",
    "from datetime import datetime\n",
    "\n",
    "default_args = {\n",
    "    'owner' : 'postgres',\n",
    "    'start_date' : datetime.now(),\n",
    "    'retries' : 1\n",
    "}\n",
    "\n",
    "with DAG(\n",
    "    'dbt_pipeline',\n",
    "    default_args=default_args,\n",
    "    description=\"Execução do dbt run e dbt teste\",\n",
    "     schedule_interval='@hour',\n",
    "     catchup=False) as dag:\n",
    "\n",
    "        dbt_run = BashOperator(task_id=\"dbt_run\",\n",
    "                       bash_command='cd dbt_projeto_ETL && dbt run',\n",
    "                       dag=dag)\n",
    "\n",
    "\n",
    "        dbt_test = BashOperator(task_id=\"dbt_test\",\n",
    "                       bash_command='cd dbt_projeto_ETL && dbt test',\n",
    "                       dag=dag)\n",
    "        \n",
    "dbt_run >> dbt_test"
   ]
  }
 ],
 "metadata": {
  "kernelspec": {
   "display_name": "Python 3",
   "language": "python",
   "name": "python3"
  },
  "language_info": {
   "codemirror_mode": {
    "name": "ipython",
    "version": 3
   },
   "file_extension": ".py",
   "mimetype": "text/x-python",
   "name": "python",
   "nbconvert_exporter": "python",
   "pygments_lexer": "ipython3",
   "version": "3.11.4"
  }
 },
 "nbformat": 4,
 "nbformat_minor": 2
}
